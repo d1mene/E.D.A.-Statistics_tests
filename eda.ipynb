{
 "cells": [
  {
   "cell_type": "markdown",
   "metadata": {},
   "source": [
    "# <center> Практика. Статистические тесты в контексте EDA"
   ]
  },
  {
   "cell_type": "markdown",
   "metadata": {},
   "source": [
    "## Постановка задачи\n",
    "\n",
    "HR-агентство изучает тренды на рынке труда в IT. Компания хочет провести исследование на основе данных о зарплатах в сфере Data Science за 2020–2022 годы и получить некоторые выводы.\n",
    "\n",
    "Нужно исследовать данные и сделать выводы по полученным результатам. Вдобавок, к рассуждениям и выводам добавим визуализацию и с помощью статистического тестирования проверим, являются ли выводы статистически значимыми.\n",
    "\n",
    "Задачи:\n",
    "1. Выяснить, какие факторы влияют на зарплату специалиста Data Scientist.\n",
    "2. А также ответить на ключевые вопросы HR-агентства:\n",
    "* Наблюдается ли ежегодный рост зарплат у специалистов Data Scientist?\n",
    "* Как соотносятся зарплаты Data Scientist и Data Engineer в 2022 году?\n",
    "* Как соотносятся зарплаты специалистов Data Scientist в компаниях различных размеров?\n",
    "* Есть ли связь между наличием должностей Data Scientist и Data Engineer и размером компании?"
   ]
  },
  {
   "cell_type": "markdown",
   "metadata": {},
   "source": [
    "Значения столбцов датасета:\n",
    "\n",
    "* work_year\t- Год, в котором была выплачена зарплата.\n",
    "* experience_level\t - Опыт работы на этой должности в течение года со следующими возможными значениями:\n",
    "    * EN — Entry-level/Junior;\n",
    "    * MI — Mid-level/Intermediate;\n",
    "    * SE — Senior-level/Expert;\n",
    "    * EX — Executive-level/Director.\n",
    "* employment_type\t- Тип трудоустройства для этой роли:\n",
    "    * PT — неполный рабочий день;\n",
    "    * FT — полный рабочий день;\n",
    "    * CT — контракт;\n",
    "    * FL — фриланс.\n",
    "* job_title\tРоль, в которой соискатель работал в течение года.\n",
    "* salary\tОбщая выплаченная валовая сумма заработной платы.\n",
    "* salary_currency\tВалюта выплачиваемой заработной платы в виде кода валюты ISO 4217.\n",
    "* salary_in_usd\tЗарплата в долларах США (валютный курс, делённый на среднее значение курса доллара США за соответствующий год через fxdata.foorilla.com).\n",
    "* employee_residence\tОсновная страна проживания сотрудника в течение рабочего года в виде кода страны ISO 3166.\n",
    "* remote_ratio\tОбщий объём работы, выполняемой удалённо. Возможные значения:\n",
    "    * 0 — удалённой работы нет (менее 20 %);\n",
    "    * 50 — частично удалённая работа;\n",
    "    * 100 — полностью удалённая работа (более 80 %).\n",
    "* company_location\tСтрана главного офиса работодателя или филиала по контракту в виде кода страны ISO 3166.\n",
    "* company_size\tСреднее количество людей, работавших в компании в течение года:\n",
    "    * S — менее 50 сотрудников (небольшая компания);\n",
    "    * M — от 50 до 250 сотрудников (средняя компания);\n",
    "    * L — более 250 сотрудников (крупная компания)."
   ]
  },
  {
   "cell_type": "markdown",
   "metadata": {},
   "source": [
    "Источник: https://www.kaggle.com/datasets/ruchi798/data-science-job-salaries"
   ]
  },
  {
   "cell_type": "markdown",
   "metadata": {},
   "source": [
    "# Загрузка и обработка данных. Отбор признаков"
   ]
  },
  {
   "cell_type": "code",
   "execution_count": 1,
   "metadata": {},
   "outputs": [],
   "source": [
    "import pandas as pd\n",
    "import numpy as np\n",
    "import matplotlib.pyplot as plt\n",
    "import scipy.stats as stats\n",
    "import seaborn as sns\n",
    "import category_encoders as ce\n",
    "from statsmodels.stats.contingency_tables import mcnemar\n",
    "\n",
    "import warnings\n",
    "warnings.filterwarnings('ignore')"
   ]
  },
  {
   "cell_type": "code",
   "execution_count": 2,
   "metadata": {},
   "outputs": [],
   "source": [
    "# Задаём уровень значимости\n",
    "alpha = 0.05"
   ]
  },
  {
   "cell_type": "code",
   "execution_count": 3,
   "metadata": {},
   "outputs": [
    {
     "data": {
      "text/html": [
       "<div>\n",
       "<style scoped>\n",
       "    .dataframe tbody tr th:only-of-type {\n",
       "        vertical-align: middle;\n",
       "    }\n",
       "\n",
       "    .dataframe tbody tr th {\n",
       "        vertical-align: top;\n",
       "    }\n",
       "\n",
       "    .dataframe thead th {\n",
       "        text-align: right;\n",
       "    }\n",
       "</style>\n",
       "<table border=\"1\" class=\"dataframe\">\n",
       "  <thead>\n",
       "    <tr style=\"text-align: right;\">\n",
       "      <th></th>\n",
       "      <th>work_year</th>\n",
       "      <th>experience_level</th>\n",
       "      <th>employment_type</th>\n",
       "      <th>job_title</th>\n",
       "      <th>salary</th>\n",
       "      <th>salary_currency</th>\n",
       "      <th>salary_in_usd</th>\n",
       "      <th>employee_residence</th>\n",
       "      <th>remote_ratio</th>\n",
       "      <th>company_location</th>\n",
       "      <th>company_size</th>\n",
       "    </tr>\n",
       "  </thead>\n",
       "  <tbody>\n",
       "    <tr>\n",
       "      <th>0</th>\n",
       "      <td>2020</td>\n",
       "      <td>MI</td>\n",
       "      <td>FT</td>\n",
       "      <td>Data Scientist</td>\n",
       "      <td>70000</td>\n",
       "      <td>EUR</td>\n",
       "      <td>79833</td>\n",
       "      <td>DE</td>\n",
       "      <td>0</td>\n",
       "      <td>DE</td>\n",
       "      <td>L</td>\n",
       "    </tr>\n",
       "    <tr>\n",
       "      <th>1</th>\n",
       "      <td>2020</td>\n",
       "      <td>SE</td>\n",
       "      <td>FT</td>\n",
       "      <td>Machine Learning Scientist</td>\n",
       "      <td>260000</td>\n",
       "      <td>USD</td>\n",
       "      <td>260000</td>\n",
       "      <td>JP</td>\n",
       "      <td>0</td>\n",
       "      <td>JP</td>\n",
       "      <td>S</td>\n",
       "    </tr>\n",
       "    <tr>\n",
       "      <th>2</th>\n",
       "      <td>2020</td>\n",
       "      <td>SE</td>\n",
       "      <td>FT</td>\n",
       "      <td>Big Data Engineer</td>\n",
       "      <td>85000</td>\n",
       "      <td>GBP</td>\n",
       "      <td>109024</td>\n",
       "      <td>GB</td>\n",
       "      <td>50</td>\n",
       "      <td>GB</td>\n",
       "      <td>M</td>\n",
       "    </tr>\n",
       "    <tr>\n",
       "      <th>3</th>\n",
       "      <td>2020</td>\n",
       "      <td>MI</td>\n",
       "      <td>FT</td>\n",
       "      <td>Product Data Analyst</td>\n",
       "      <td>20000</td>\n",
       "      <td>USD</td>\n",
       "      <td>20000</td>\n",
       "      <td>HN</td>\n",
       "      <td>0</td>\n",
       "      <td>HN</td>\n",
       "      <td>S</td>\n",
       "    </tr>\n",
       "    <tr>\n",
       "      <th>4</th>\n",
       "      <td>2020</td>\n",
       "      <td>SE</td>\n",
       "      <td>FT</td>\n",
       "      <td>Machine Learning Engineer</td>\n",
       "      <td>150000</td>\n",
       "      <td>USD</td>\n",
       "      <td>150000</td>\n",
       "      <td>US</td>\n",
       "      <td>50</td>\n",
       "      <td>US</td>\n",
       "      <td>L</td>\n",
       "    </tr>\n",
       "  </tbody>\n",
       "</table>\n",
       "</div>"
      ],
      "text/plain": [
       "   work_year experience_level employment_type                   job_title  \\\n",
       "0       2020               MI              FT              Data Scientist   \n",
       "1       2020               SE              FT  Machine Learning Scientist   \n",
       "2       2020               SE              FT           Big Data Engineer   \n",
       "3       2020               MI              FT        Product Data Analyst   \n",
       "4       2020               SE              FT   Machine Learning Engineer   \n",
       "\n",
       "   salary salary_currency  salary_in_usd employee_residence  remote_ratio  \\\n",
       "0   70000             EUR          79833                 DE             0   \n",
       "1  260000             USD         260000                 JP             0   \n",
       "2   85000             GBP         109024                 GB            50   \n",
       "3   20000             USD          20000                 HN             0   \n",
       "4  150000             USD         150000                 US            50   \n",
       "\n",
       "  company_location company_size  \n",
       "0               DE            L  \n",
       "1               JP            S  \n",
       "2               GB            M  \n",
       "3               HN            S  \n",
       "4               US            L  "
      ]
     },
     "execution_count": 3,
     "metadata": {},
     "output_type": "execute_result"
    }
   ],
   "source": [
    "# Считываем данные\n",
    "data = pd.read_csv('data\\ds_salaries.csv', index_col=0)\n",
    "data.head()"
   ]
  },
  {
   "cell_type": "code",
   "execution_count": 4,
   "metadata": {},
   "outputs": [
    {
     "data": {
      "text/plain": [
       "42"
      ]
     },
     "execution_count": 4,
     "metadata": {},
     "output_type": "execute_result"
    }
   ],
   "source": [
    "# Проверим, сколько дубликатов содержится в таблице\n",
    "dup_lst = data.duplicated()\n",
    "dup_lst.sum()"
   ]
  },
  {
   "cell_type": "code",
   "execution_count": 5,
   "metadata": {},
   "outputs": [
    {
     "name": "stdout",
     "output_type": "stream",
     "text": [
      "<class 'pandas.core.frame.DataFrame'>\n",
      "Index: 607 entries, 0 to 606\n",
      "Data columns (total 11 columns):\n",
      " #   Column              Non-Null Count  Dtype \n",
      "---  ------              --------------  ----- \n",
      " 0   work_year           607 non-null    int64 \n",
      " 1   experience_level    607 non-null    object\n",
      " 2   employment_type     607 non-null    object\n",
      " 3   job_title           607 non-null    object\n",
      " 4   salary              607 non-null    int64 \n",
      " 5   salary_currency     607 non-null    object\n",
      " 6   salary_in_usd       607 non-null    int64 \n",
      " 7   employee_residence  607 non-null    object\n",
      " 8   remote_ratio        607 non-null    int64 \n",
      " 9   company_location    607 non-null    object\n",
      " 10  company_size        607 non-null    object\n",
      "dtypes: int64(4), object(7)\n",
      "memory usage: 56.9+ KB\n"
     ]
    }
   ],
   "source": [
    "data.info()"
   ]
  },
  {
   "cell_type": "markdown",
   "metadata": {},
   "source": [
    "*Как видим, в данном датафрейме нет дубликатов, все типы данных - корректные* "
   ]
  },
  {
   "cell_type": "markdown",
   "metadata": {},
   "source": [
    "---"
   ]
  },
  {
   "cell_type": "markdown",
   "metadata": {},
   "source": [
    "Теперь отберём признаки. Сразу понятно, что зарплату лучше сравнивать только в долларах, т.е. оставить только признак salary_in_usd."
   ]
  },
  {
   "cell_type": "code",
   "execution_count": 6,
   "metadata": {},
   "outputs": [
    {
     "data": {
      "text/html": [
       "<div>\n",
       "<style scoped>\n",
       "    .dataframe tbody tr th:only-of-type {\n",
       "        vertical-align: middle;\n",
       "    }\n",
       "\n",
       "    .dataframe tbody tr th {\n",
       "        vertical-align: top;\n",
       "    }\n",
       "\n",
       "    .dataframe thead th {\n",
       "        text-align: right;\n",
       "    }\n",
       "</style>\n",
       "<table border=\"1\" class=\"dataframe\">\n",
       "  <thead>\n",
       "    <tr style=\"text-align: right;\">\n",
       "      <th></th>\n",
       "      <th>work_year</th>\n",
       "      <th>experience_level</th>\n",
       "      <th>employment_type</th>\n",
       "      <th>job_title</th>\n",
       "      <th>salary_in_usd</th>\n",
       "      <th>employee_residence</th>\n",
       "      <th>remote_ratio</th>\n",
       "      <th>company_location</th>\n",
       "      <th>company_size</th>\n",
       "    </tr>\n",
       "  </thead>\n",
       "  <tbody>\n",
       "    <tr>\n",
       "      <th>0</th>\n",
       "      <td>2020</td>\n",
       "      <td>MI</td>\n",
       "      <td>FT</td>\n",
       "      <td>Data Scientist</td>\n",
       "      <td>79833</td>\n",
       "      <td>DE</td>\n",
       "      <td>0</td>\n",
       "      <td>DE</td>\n",
       "      <td>L</td>\n",
       "    </tr>\n",
       "    <tr>\n",
       "      <th>1</th>\n",
       "      <td>2020</td>\n",
       "      <td>SE</td>\n",
       "      <td>FT</td>\n",
       "      <td>Machine Learning Scientist</td>\n",
       "      <td>260000</td>\n",
       "      <td>JP</td>\n",
       "      <td>0</td>\n",
       "      <td>JP</td>\n",
       "      <td>S</td>\n",
       "    </tr>\n",
       "    <tr>\n",
       "      <th>2</th>\n",
       "      <td>2020</td>\n",
       "      <td>SE</td>\n",
       "      <td>FT</td>\n",
       "      <td>Big Data Engineer</td>\n",
       "      <td>109024</td>\n",
       "      <td>GB</td>\n",
       "      <td>50</td>\n",
       "      <td>GB</td>\n",
       "      <td>M</td>\n",
       "    </tr>\n",
       "    <tr>\n",
       "      <th>3</th>\n",
       "      <td>2020</td>\n",
       "      <td>MI</td>\n",
       "      <td>FT</td>\n",
       "      <td>Product Data Analyst</td>\n",
       "      <td>20000</td>\n",
       "      <td>HN</td>\n",
       "      <td>0</td>\n",
       "      <td>HN</td>\n",
       "      <td>S</td>\n",
       "    </tr>\n",
       "    <tr>\n",
       "      <th>4</th>\n",
       "      <td>2020</td>\n",
       "      <td>SE</td>\n",
       "      <td>FT</td>\n",
       "      <td>Machine Learning Engineer</td>\n",
       "      <td>150000</td>\n",
       "      <td>US</td>\n",
       "      <td>50</td>\n",
       "      <td>US</td>\n",
       "      <td>L</td>\n",
       "    </tr>\n",
       "  </tbody>\n",
       "</table>\n",
       "</div>"
      ],
      "text/plain": [
       "   work_year experience_level employment_type                   job_title  \\\n",
       "0       2020               MI              FT              Data Scientist   \n",
       "1       2020               SE              FT  Machine Learning Scientist   \n",
       "2       2020               SE              FT           Big Data Engineer   \n",
       "3       2020               MI              FT        Product Data Analyst   \n",
       "4       2020               SE              FT   Machine Learning Engineer   \n",
       "\n",
       "   salary_in_usd employee_residence  remote_ratio company_location  \\\n",
       "0          79833                 DE             0               DE   \n",
       "1         260000                 JP             0               JP   \n",
       "2         109024                 GB            50               GB   \n",
       "3          20000                 HN             0               HN   \n",
       "4         150000                 US            50               US   \n",
       "\n",
       "  company_size  \n",
       "0            L  \n",
       "1            S  \n",
       "2            M  \n",
       "3            S  \n",
       "4            L  "
      ]
     },
     "execution_count": 6,
     "metadata": {},
     "output_type": "execute_result"
    }
   ],
   "source": [
    "# Удаляем ненужные признаки\n",
    "data = data.drop(['salary', 'salary_currency'], axis=1)\n",
    "data.head()"
   ]
  },
  {
   "cell_type": "markdown",
   "metadata": {},
   "source": [
    "Также подозрение вызывает признаки 'employee_residence' и 'company_location', которые, скорее всего имеют высокую корреляцию. Проверим это:"
   ]
  },
  {
   "cell_type": "code",
   "execution_count": 7,
   "metadata": {},
   "outputs": [
    {
     "data": {
      "text/plain": [
       "0.92"
      ]
     },
     "execution_count": 7,
     "metadata": {},
     "output_type": "execute_result"
    }
   ],
   "source": [
    "count = 0\n",
    "# Проходимся циклом for по строкам таблицы \n",
    "for i in data.index:\n",
    "    # Если значения признаков 'employee_residence' и 'company_location' равны, добавляем к счетчику единицу\n",
    "    if data.loc[i]['company_location'] == data.loc[i]['employee_residence']:\n",
    "        count += 1\n",
    "        \n",
    "# Выводим долю повторяющихся значений\n",
    "round(count/len(data), 2)"
   ]
  },
  {
   "cell_type": "markdown",
   "metadata": {},
   "source": [
    "Как видим, более 90% информации в этих двух признаках совпадает. Оставляем признак 'company_location', т.к. он более информативен (если можно так сказать, зарплату выплачивает компания, а не страна, в которой работает программист)"
   ]
  },
  {
   "cell_type": "code",
   "execution_count": 8,
   "metadata": {},
   "outputs": [],
   "source": [
    "# Удаляем ненужные признаки\n",
    "data = data.drop('employee_residence', axis=1)"
   ]
  },
  {
   "cell_type": "markdown",
   "metadata": {},
   "source": [
    "---"
   ]
  },
  {
   "cell_type": "markdown",
   "metadata": {},
   "source": [
    "Итак, наконец, получили датафрейм, с которым будем работать:"
   ]
  },
  {
   "cell_type": "code",
   "execution_count": 9,
   "metadata": {},
   "outputs": [
    {
     "data": {
      "text/html": [
       "<div>\n",
       "<style scoped>\n",
       "    .dataframe tbody tr th:only-of-type {\n",
       "        vertical-align: middle;\n",
       "    }\n",
       "\n",
       "    .dataframe tbody tr th {\n",
       "        vertical-align: top;\n",
       "    }\n",
       "\n",
       "    .dataframe thead th {\n",
       "        text-align: right;\n",
       "    }\n",
       "</style>\n",
       "<table border=\"1\" class=\"dataframe\">\n",
       "  <thead>\n",
       "    <tr style=\"text-align: right;\">\n",
       "      <th></th>\n",
       "      <th>work_year</th>\n",
       "      <th>experience_level</th>\n",
       "      <th>employment_type</th>\n",
       "      <th>job_title</th>\n",
       "      <th>salary_in_usd</th>\n",
       "      <th>remote_ratio</th>\n",
       "      <th>company_location</th>\n",
       "      <th>company_size</th>\n",
       "    </tr>\n",
       "  </thead>\n",
       "  <tbody>\n",
       "    <tr>\n",
       "      <th>0</th>\n",
       "      <td>2020</td>\n",
       "      <td>MI</td>\n",
       "      <td>FT</td>\n",
       "      <td>Data Scientist</td>\n",
       "      <td>79833</td>\n",
       "      <td>0</td>\n",
       "      <td>DE</td>\n",
       "      <td>L</td>\n",
       "    </tr>\n",
       "    <tr>\n",
       "      <th>1</th>\n",
       "      <td>2020</td>\n",
       "      <td>SE</td>\n",
       "      <td>FT</td>\n",
       "      <td>Machine Learning Scientist</td>\n",
       "      <td>260000</td>\n",
       "      <td>0</td>\n",
       "      <td>JP</td>\n",
       "      <td>S</td>\n",
       "    </tr>\n",
       "    <tr>\n",
       "      <th>2</th>\n",
       "      <td>2020</td>\n",
       "      <td>SE</td>\n",
       "      <td>FT</td>\n",
       "      <td>Big Data Engineer</td>\n",
       "      <td>109024</td>\n",
       "      <td>50</td>\n",
       "      <td>GB</td>\n",
       "      <td>M</td>\n",
       "    </tr>\n",
       "    <tr>\n",
       "      <th>3</th>\n",
       "      <td>2020</td>\n",
       "      <td>MI</td>\n",
       "      <td>FT</td>\n",
       "      <td>Product Data Analyst</td>\n",
       "      <td>20000</td>\n",
       "      <td>0</td>\n",
       "      <td>HN</td>\n",
       "      <td>S</td>\n",
       "    </tr>\n",
       "    <tr>\n",
       "      <th>4</th>\n",
       "      <td>2020</td>\n",
       "      <td>SE</td>\n",
       "      <td>FT</td>\n",
       "      <td>Machine Learning Engineer</td>\n",
       "      <td>150000</td>\n",
       "      <td>50</td>\n",
       "      <td>US</td>\n",
       "      <td>L</td>\n",
       "    </tr>\n",
       "    <tr>\n",
       "      <th>...</th>\n",
       "      <td>...</td>\n",
       "      <td>...</td>\n",
       "      <td>...</td>\n",
       "      <td>...</td>\n",
       "      <td>...</td>\n",
       "      <td>...</td>\n",
       "      <td>...</td>\n",
       "      <td>...</td>\n",
       "    </tr>\n",
       "    <tr>\n",
       "      <th>602</th>\n",
       "      <td>2022</td>\n",
       "      <td>SE</td>\n",
       "      <td>FT</td>\n",
       "      <td>Data Engineer</td>\n",
       "      <td>154000</td>\n",
       "      <td>100</td>\n",
       "      <td>US</td>\n",
       "      <td>M</td>\n",
       "    </tr>\n",
       "    <tr>\n",
       "      <th>603</th>\n",
       "      <td>2022</td>\n",
       "      <td>SE</td>\n",
       "      <td>FT</td>\n",
       "      <td>Data Engineer</td>\n",
       "      <td>126000</td>\n",
       "      <td>100</td>\n",
       "      <td>US</td>\n",
       "      <td>M</td>\n",
       "    </tr>\n",
       "    <tr>\n",
       "      <th>604</th>\n",
       "      <td>2022</td>\n",
       "      <td>SE</td>\n",
       "      <td>FT</td>\n",
       "      <td>Data Analyst</td>\n",
       "      <td>129000</td>\n",
       "      <td>0</td>\n",
       "      <td>US</td>\n",
       "      <td>M</td>\n",
       "    </tr>\n",
       "    <tr>\n",
       "      <th>605</th>\n",
       "      <td>2022</td>\n",
       "      <td>SE</td>\n",
       "      <td>FT</td>\n",
       "      <td>Data Analyst</td>\n",
       "      <td>150000</td>\n",
       "      <td>100</td>\n",
       "      <td>US</td>\n",
       "      <td>M</td>\n",
       "    </tr>\n",
       "    <tr>\n",
       "      <th>606</th>\n",
       "      <td>2022</td>\n",
       "      <td>MI</td>\n",
       "      <td>FT</td>\n",
       "      <td>AI Scientist</td>\n",
       "      <td>200000</td>\n",
       "      <td>100</td>\n",
       "      <td>US</td>\n",
       "      <td>L</td>\n",
       "    </tr>\n",
       "  </tbody>\n",
       "</table>\n",
       "<p>607 rows × 8 columns</p>\n",
       "</div>"
      ],
      "text/plain": [
       "     work_year experience_level employment_type                   job_title  \\\n",
       "0         2020               MI              FT              Data Scientist   \n",
       "1         2020               SE              FT  Machine Learning Scientist   \n",
       "2         2020               SE              FT           Big Data Engineer   \n",
       "3         2020               MI              FT        Product Data Analyst   \n",
       "4         2020               SE              FT   Machine Learning Engineer   \n",
       "..         ...              ...             ...                         ...   \n",
       "602       2022               SE              FT               Data Engineer   \n",
       "603       2022               SE              FT               Data Engineer   \n",
       "604       2022               SE              FT                Data Analyst   \n",
       "605       2022               SE              FT                Data Analyst   \n",
       "606       2022               MI              FT                AI Scientist   \n",
       "\n",
       "     salary_in_usd  remote_ratio company_location company_size  \n",
       "0            79833             0               DE            L  \n",
       "1           260000             0               JP            S  \n",
       "2           109024            50               GB            M  \n",
       "3            20000             0               HN            S  \n",
       "4           150000            50               US            L  \n",
       "..             ...           ...              ...          ...  \n",
       "602         154000           100               US            M  \n",
       "603         126000           100               US            M  \n",
       "604         129000             0               US            M  \n",
       "605         150000           100               US            M  \n",
       "606         200000           100               US            L  \n",
       "\n",
       "[607 rows x 8 columns]"
      ]
     },
     "execution_count": 9,
     "metadata": {},
     "output_type": "execute_result"
    }
   ],
   "source": [
    "data"
   ]
  },
  {
   "cell_type": "markdown",
   "metadata": {},
   "source": [
    "Разделим данные на типы:\n",
    "* Категориальные: work_year, experience_level, employment_type, job_title, remote_ratio, company_location, company_size\n",
    "* Количественные: salary_in_usd"
   ]
  },
  {
   "cell_type": "markdown",
   "metadata": {},
   "source": [
    "# Визуализация "
   ]
  },
  {
   "cell_type": "code",
   "execution_count": 10,
   "metadata": {},
   "outputs": [
    {
     "data": {
      "text/plain": [
       "Text(0, 0.5, 'Распределение')"
      ]
     },
     "execution_count": 10,
     "metadata": {},
     "output_type": "execute_result"
    },
    {
     "data": {
      "image/png": "[encoded data removed]",
      "text/plain": [
       "<Figure size 640x480 with 1 Axes>"
      ]
     },
     "metadata": {},
     "output_type": "display_data"
    }
   ],
   "source": [
    "# С помощью библиотеки Seaborn строим гистограмму распределения зарплаты\n",
    "ax = sns.histplot(data['salary_in_usd'])\n",
    "\n",
    "ax.set_title('Распределение зарплаты программиста (в долларах)')\n",
    "ax.set_xlabel('ЗП в $')\n",
    "ax.set_ylabel('Распределение')"
   ]
  },
  {
   "cell_type": "markdown",
   "metadata": {},
   "source": [
    "Как видим, общая ЗП распределена ненормально. Конечно, мы будем проводить тесты по каждой выборке, но скорее всего везде придется использовать непараметрические тесты."
   ]
  },
  {
   "cell_type": "markdown",
   "metadata": {},
   "source": [
    "---"
   ]
  },
  {
   "cell_type": "code",
   "execution_count": 11,
   "metadata": {},
   "outputs": [
    {
     "data": {
      "text/plain": [
       "work_year\n",
       "2020     72\n",
       "2021    217\n",
       "2022    318\n",
       "Name: work_year, dtype: int64"
      ]
     },
     "execution_count": 11,
     "metadata": {},
     "output_type": "execute_result"
    }
   ],
   "source": [
    "d = data.groupby('work_year')['work_year'].count()\n",
    "d"
   ]
  },
  {
   "cell_type": "code",
   "execution_count": 12,
   "metadata": {},
   "outputs": [
    {
     "data": {
      "text/plain": [
       "Text(0, 0.5, 'Кол-во')"
      ]
     },
     "execution_count": 12,
     "metadata": {},
     "output_type": "execute_result"
    },
    {
     "data": {
      "image/png": "[encoded data removed]",
      "text/plain": [
       "<Figure size 640x480 with 1 Axes>"
      ]
     },
     "metadata": {},
     "output_type": "display_data"
    }
   ],
   "source": [
    "# С помощью библиотеки Seaborn добавляем\n",
    "ax = sns.barplot(data=d)\n",
    "# Добавляем название осям и всей диаграмме\n",
    "ax.set_title('Кол-во записей, связанных с опред. годом')\n",
    "ax.set_xlabel('Год')\n",
    "ax.set_ylabel('Кол-во')"
   ]
  },
  {
   "cell_type": "markdown",
   "metadata": {},
   "source": [
    "Как видно, больше всего данных предоставлено за 2022 год."
   ]
  },
  {
   "cell_type": "markdown",
   "metadata": {},
   "source": [
    "---"
   ]
  },
  {
   "cell_type": "code",
   "execution_count": 13,
   "metadata": {},
   "outputs": [
    {
     "data": {
      "text/plain": [
       "<matplotlib.legend.Legend at 0x2e23f6f9c10>"
      ]
     },
     "execution_count": 13,
     "metadata": {},
     "output_type": "execute_result"
    },
    {
     "data": {
      "image/png": "[encoded data removed]",
      "text/plain": [
       "<Figure size 800x600 with 1 Axes>"
      ]
     },
     "metadata": {},
     "output_type": "display_data"
    }
   ],
   "source": [
    "df = data['company_size'].value_counts()\n",
    "# С помощью библиотеки matplotlib строим круговую диаграмму\n",
    "ax = plt.figure(figsize=(8, 6)).add_axes([0, 0, 1, 1])\n",
    "ax.pie(\n",
    "    df, \n",
    "    labels = df.index,\n",
    "    autopct = '%.2f%%',\n",
    "    explode = (0, 0.05, 0.15),\n",
    "    wedgeprops = {'lw':0.8,'edgecolor':'k'}\n",
    ")\n",
    "# Добавляем название графику и легенду\n",
    "ax.set_title('Доля компаний разных размеров')\n",
    "ax.legend(['Medium', 'Large', 'Small'])"
   ]
  },
  {
   "cell_type": "markdown",
   "metadata": {},
   "source": [
    "Видим, что больше всего компаний (53%) в данном датафрейме - среднего размера, треть - большого, остальные - маленькие."
   ]
  },
  {
   "cell_type": "markdown",
   "metadata": {},
   "source": [
    "---"
   ]
  },
  {
   "cell_type": "code",
   "execution_count": 14,
   "metadata": {},
   "outputs": [
    {
     "data": {
      "text/plain": [
       "Text(0, 0.5, 'Кол-во')"
      ]
     },
     "execution_count": 14,
     "metadata": {},
     "output_type": "execute_result"
    },
    {
     "data": {
      "image/png": "[encoded data removed]",
      "text/plain": [
       "<Figure size 640x480 with 1 Axes>"
      ]
     },
     "metadata": {},
     "output_type": "display_data"
    }
   ],
   "source": [
    "# С помощью Seaborn строим столбчатую диаграмму для уровней специалистов\n",
    "ax = sns.barplot(data['experience_level'].value_counts())\n",
    "# Добавляем подписи осей и всего графика\n",
    "ax.set_title('Кол-во записей по уровню специалистов')\n",
    "ax.set_xlabel('Уровень специалиста')\n",
    "ax.set_ylabel('Кол-во')"
   ]
  },
  {
   "cell_type": "markdown",
   "metadata": {},
   "source": [
    "Из данного графика можем сделать вывод, что большинство работников из данного датафрейма имеют глубокие знания в своей сфере (преобладает группа 'Senior')"
   ]
  },
  {
   "cell_type": "markdown",
   "metadata": {},
   "source": [
    "---"
   ]
  },
  {
   "cell_type": "code",
   "execution_count": 15,
   "metadata": {},
   "outputs": [
    {
     "data": {
      "text/plain": [
       "Text(0.5, 1.0, 'Доля работающих удалённо/в офисе')"
      ]
     },
     "execution_count": 15,
     "metadata": {},
     "output_type": "execute_result"
    },
    {
     "data": {
      "image/png": "[encoded data removed]",
      "text/plain": [
       "<Figure size 800x600 with 1 Axes>"
      ]
     },
     "metadata": {},
     "output_type": "display_data"
    }
   ],
   "source": [
    "df = data['remote_ratio'].value_counts()\n",
    "df.index = ['Remote', 'On office', 'Partly remote']\n",
    "# С помощью библиотеки matplotlib строим круговую диаграмму\n",
    "ax = plt.figure(figsize=(8, 6)).add_axes([0, 0, 1, 1])\n",
    "ax.pie(\n",
    "    df, \n",
    "    labels = df.index,\n",
    "    autopct = '%.2f%%',\n",
    "    explode = (0, 0.1, 0.05),\n",
    "    wedgeprops = {'lw':0.8,'edgecolor':'k'}\n",
    "    \n",
    ")\n",
    "# Добавляем название графику\n",
    "ax.set_title('Доля работающих удалённо/в офисе')"
   ]
  },
  {
   "cell_type": "markdown",
   "metadata": {},
   "source": [
    "Как видно по диаграмме, большинство работников (62 %) из исходного датафрейма работают удалённо, пятая часть из всех - в офисе (очно), оставшиеся 16% работают спешанно (очно + заочно)"
   ]
  },
  {
   "cell_type": "markdown",
   "metadata": {},
   "source": [
    "# №1. Исследование ежегодного роста зарплаты"
   ]
  },
  {
   "cell_type": "code",
   "execution_count": 16,
   "metadata": {},
   "outputs": [
    {
     "data": {
      "text/plain": [
       "work_year\n",
       "2022    318\n",
       "2021    217\n",
       "2020     72\n",
       "Name: count, dtype: int64"
      ]
     },
     "execution_count": 16,
     "metadata": {},
     "output_type": "execute_result"
    }
   ],
   "source": [
    "data['work_year'].value_counts()"
   ]
  },
  {
   "cell_type": "markdown",
   "metadata": {},
   "source": [
    "Как видим, в исходных данных упоминается всего три года: 2020, 2021 и 2022. \n",
    "\n",
    "*Можем обозначить общую нулевую гипотезу: хотя бы где-то в последовательности годов зарплата меньше либо равна предыдущему. Алтернативная гипотеза: с каждым годом зарплата дата сайентиста увеличивается.*"
   ]
  },
  {
   "cell_type": "code",
   "execution_count": 17,
   "metadata": {},
   "outputs": [],
   "source": [
    "# Отдельно выделим датафрейм df, в котором упоминаются только дата сайентисты\n",
    "df = data[data['job_title'] == 'Data Scientist']\n",
    "\n",
    "# Создадим маски, с помощью которых из датафрейма df выделим статистику за 2022,\n",
    "# 2021 и 2020 год соответственно\n",
    "mask_1 = data['work_year'] == 2022\n",
    "mask_2 = data['work_year'] == 2021\n",
    "mask_3 = data['work_year'] == 2020\n",
    "\n",
    "# Сохраним переменные с датафреймами с одним годом\n",
    "df_1 = df[mask_1]\n",
    "df_2 = df[mask_2]\n",
    "df_3 = df[mask_3]"
   ]
  },
  {
   "cell_type": "markdown",
   "metadata": {},
   "source": [
    "---"
   ]
  },
  {
   "cell_type": "markdown",
   "metadata": {},
   "source": [
    "*Нулевая гипотеза* ($H_0$): средняя зарплата Data Scientist в 2022 году ($μ_1$) статистически меньше либо равна размеру заработной платы в 2021 ($μ_2$).\n",
    "\n",
    "$$ H_0 : μ_1 <= μ_2$$\n",
    "\n",
    "*Альтернативная гипотеза* ($H_1$): средняя зарплата Data Scientist в 2022 году ($μ_1$) статистически больше, чем ЗП Дата-сайентиста в 2021 ($μ_2$).\n",
    "\n",
    "$$ H_1 : μ_1 > μ_2$$"
   ]
  },
  {
   "cell_type": "markdown",
   "metadata": {},
   "source": [
    "Перед тем, как выбрать статистический тест, проверим распределение обоих признаков:"
   ]
  },
  {
   "cell_type": "code",
   "execution_count": 18,
   "metadata": {},
   "outputs": [
    {
     "name": "stdout",
     "output_type": "stream",
     "text": [
      "p-значение обоих больше, чем заданный уровень значимости 0.05. \n",
      "Следовательно, оба списка распределены нормально. Используем параметрический тест\n"
     ]
    }
   ],
   "source": [
    "# Используем метод shapiro() из библиотеки scipy для проверки данных на нормальность:\n",
    "_, p_1 = stats.shapiro(df_1['salary_in_usd'])\n",
    "_, p_2 = stats.shapiro(df_2['salary_in_usd'])\n",
    "# Нулевая гипотеза: данные распределены нормально, альтернативная - нет\n",
    "if p_1 >= alpha and p_2 >= alpha:\n",
    "    print('p-значение обоих больше, чем заданный уровень значимости {:.2f}. \\nСледовательно, оба списка распределены нормально. Используем параметрический тест'.format(alpha))\n",
    "else:\n",
    "    print('p-значение меньше, чем заданный уровень значимости {:.2f}. \\nЗначит, какой-то из признаков распределён ненормально. Используем непараметрический тест'.format(alpha))"
   ]
  },
  {
   "cell_type": "markdown",
   "metadata": {},
   "source": [
    "Итак, мы имеем два количественных, независимых, нормально распределённых признака.\n",
    "\n",
    "Используем двухвыборочный t-критерий:"
   ]
  },
  {
   "cell_type": "code",
   "execution_count": 19,
   "metadata": {},
   "outputs": [
    {
     "name": "stdout",
     "output_type": "stream",
     "text": [
      "p-значение меньше, чем заданный уровень значимости 0.05. Отвергаем нулевую гипотезу.\n"
     ]
    }
   ],
   "source": [
    "# Используем функцию ttest_ind из библиотеки scipy\n",
    "_, p = stats.ttest_ind(df_1['salary_in_usd'], df_2['salary_in_usd'], alternative='greater')\n",
    "# Выбираем верную гипотезу\n",
    "if p <= alpha:\n",
    "    print('p-значение меньше, чем заданный уровень значимости {:.2f}. Отвергаем нулевую гипотезу.'.format(alpha))\n",
    "else:\n",
    "    print('p-значение больше, чем заданный уровень значимости {:.2f}. У нас нет оснований отвергнуть нулевую гипотезу.'.format(alpha))"
   ]
  },
  {
   "cell_type": "markdown",
   "metadata": {},
   "source": [
    "Таким образом, справедлива альтернативная гипотеза: ЗП Data Scientist в 2022 году больше, чем в 2021."
   ]
  },
  {
   "cell_type": "markdown",
   "metadata": {},
   "source": [
    "---"
   ]
  },
  {
   "cell_type": "markdown",
   "metadata": {},
   "source": [
    "Теперь сравним зарплату дата сайентиста в 2021 и 2020 году:"
   ]
  },
  {
   "cell_type": "markdown",
   "metadata": {},
   "source": [
    "*Нулевая гипотеза* ($H_0$): средняя зарплата Data Scientist в 2021 году ($μ_1$) статистически меньше либо равна размеру заработной платы в 2020 ($μ_2$).\n",
    "\n",
    "$$ H_0 : μ_1 <= μ_2$$\n",
    "\n",
    "*Альтернативная гипотеза* ($H_1$): средняя зарплата Data Scientist в 2021 году ($μ_1$) статистически больше, чем ЗП Дата-сайентиста в 2020 ($μ_2$).\n",
    "\n",
    "$$ H_1 : μ_1 > μ_2$$"
   ]
  },
  {
   "cell_type": "markdown",
   "metadata": {},
   "source": [
    "Перед тем, как выбрать статистический тест, проверим распределение обоих признаков:"
   ]
  },
  {
   "cell_type": "code",
   "execution_count": 20,
   "metadata": {},
   "outputs": [
    {
     "name": "stdout",
     "output_type": "stream",
     "text": [
      "p-значение меньше, чем заданный уровень значимости 0.05. \n",
      "Значит, какой-то из признаков распределён ненормально. Используем непараметрический тест\n"
     ]
    }
   ],
   "source": [
    "# Используем метод shapiro() из библиотеки scipy для проверки данных на нормальность:\n",
    "_, p_1 = stats.shapiro(df_2['salary_in_usd'])\n",
    "_, p_2 = stats.shapiro(df_3['salary_in_usd'])\n",
    "# Нулевая гипотеза: данные распределены нормально, альтернативная - нет\n",
    "if p_1 >= alpha and p_2 >= alpha:\n",
    "    print('p-значение обоих больше, чем заданный уровень значимости {:.2f}. \\nСледовательно, оба списка распределены нормально. Используем параметрический тест'.format(alpha))\n",
    "else:\n",
    "    print('p-значение меньше, чем заданный уровень значимости {:.2f}. \\nЗначит, какой-то из признаков распределён ненормально. Используем непараметрический тест'.format(alpha))"
   ]
  },
  {
   "cell_type": "markdown",
   "metadata": {},
   "source": [
    "Итак, мы имеем два количественных, независимых, ненормально распределённых признака.\n",
    "\n",
    "Используем U-критерий Манна-Уитни:"
   ]
  },
  {
   "cell_type": "code",
   "execution_count": 21,
   "metadata": {},
   "outputs": [
    {
     "name": "stdout",
     "output_type": "stream",
     "text": [
      "p-значение больше, чем заданный уровень значимости 0.05. У нас нет оснований отвергнуть нулевую гипотезу.\n"
     ]
    }
   ],
   "source": [
    "_, p = stats.mannwhitneyu(df_2['salary_in_usd'], df_3['salary_in_usd'], alternative='greater')\n",
    "\n",
    "if p <= alpha:\n",
    "    print('p-значение меньше, чем заданный уровень значимости {:.2f}. Отвергаем нулевую гипотезу.'.format(alpha))\n",
    "else:\n",
    "    print('p-значение больше, чем заданный уровень значимости {:.2f}. У нас нет оснований отвергнуть нулевую гипотезу.'.format(alpha))"
   ]
  },
  {
   "cell_type": "markdown",
   "metadata": {},
   "source": [
    "То есть, у нас нет оснований утверждать, что ЗП Data Scientist в 2021 году стала больше, чем в 2020."
   ]
  },
  {
   "cell_type": "markdown",
   "metadata": {},
   "source": [
    "---"
   ]
  },
  {
   "cell_type": "markdown",
   "metadata": {},
   "source": [
    "<span style=\"font-size:24px;\">**Вывод:**</span> $~$ <span style=\"font-size:20px;\">ежегодный прирост зарплаты наблюдается только в 2022 году, т.е. у нас нет оснований утверждать, что ЗП дата сайентиста постоянно увеличивается.</span>"
   ]
  },
  {
   "cell_type": "markdown",
   "metadata": {},
   "source": [
    "# №2. Исследование соотношения зарплат Data Scientist и Data Engineer в 2022 году"
   ]
  },
  {
   "cell_type": "code",
   "execution_count": 22,
   "metadata": {},
   "outputs": [],
   "source": [
    "# Сохраним датафрейм, содержащий информацию о дата сайентистах и дата инженерах за 2022 год\n",
    "ds = data[(data['job_title'] == 'Data Scientist') & (data['work_year'] == 2022)]\n",
    "de = data[(data['job_title'] == 'Data Engineer') & (data['work_year'] == 2022)]"
   ]
  },
  {
   "cell_type": "code",
   "execution_count": 23,
   "metadata": {},
   "outputs": [
    {
     "name": "stdout",
     "output_type": "stream",
     "text": [
      "p-значение меньше, чем заданный уровень значимости 0.05. \n",
      "Значит, какой-то из признаков распределён ненормально. Используем непараметрический тест\n"
     ]
    }
   ],
   "source": [
    "# Используем метод shapiro() из библиотеки scipy для проверки данных на нормальность:\n",
    "_, p_1 = stats.shapiro(de['salary_in_usd'])\n",
    "_, p_2 = stats.shapiro(ds['salary_in_usd'])\n",
    "# Нулевая гипотеза: данные распределены нормально, альтернативная - нет\n",
    "if p_1 >= alpha and p_2 >= alpha:\n",
    "    print('p-значение обоих больше, чем заданный уровень значимости {:.2f}. \\nСледовательно, оба списка распределены нормально. Используем параметрический тест'.format(alpha))\n",
    "else:\n",
    "    print('p-значение меньше, чем заданный уровень значимости {:.2f}. \\nЗначит, какой-то из признаков распределён ненормально. Используем непараметрический тест'.format(alpha))"
   ]
  },
  {
   "cell_type": "markdown",
   "metadata": {},
   "source": [
    "*Нулевая гипотеза* ($H_0$): средняя зарплата Data Scientist в 2022 году ($μ_1$) статистически меньше либо равна размеру заработной платы Data Engineer в том же году ($μ_2$).\n",
    "\n",
    "$$ H_0 : μ_1 <= μ_2$$\n",
    "\n",
    "*Альтернативная гипотеза* ($H_1$): средняя зарплата Data Scientist в 2022 году ($μ_1$) статистически больше, чем ЗП Data Engineer в 2022 ($μ_2$).\n",
    "\n",
    "$$ H_1 : μ_1 > μ_2$$"
   ]
  },
  {
   "cell_type": "markdown",
   "metadata": {},
   "source": [
    "Итак, мы исследуем две независимые группы, в каждой из которых количественный признак (ЗП) и данные распределены ненормально => используем U-критерий Манна-Уитни."
   ]
  },
  {
   "cell_type": "code",
   "execution_count": 24,
   "metadata": {},
   "outputs": [
    {
     "name": "stdout",
     "output_type": "stream",
     "text": [
      "0.0773245890781616\n"
     ]
    }
   ],
   "source": [
    "_, p = stats.mannwhitneyu(ds['salary_in_usd'], de['salary_in_usd'], alternative='greater', )\n",
    "print(p)"
   ]
  },
  {
   "cell_type": "code",
   "execution_count": 25,
   "metadata": {},
   "outputs": [
    {
     "name": "stdout",
     "output_type": "stream",
     "text": [
      "Mean salary in 2022: Data Engineer - 126376, Data Scientist - 136172 \n",
      "Median salary in 2022: Data Engineer - 120000.0, Data Scientist - 140000.0\n"
     ]
    }
   ],
   "source": [
    "print(f'Mean salary in 2022: Data Engineer - {round(de['salary_in_usd'].mean())}, Data Scientist - {round(ds['salary_in_usd'].mean())} \\nMedian salary in 2022: Data Engineer - {de['salary_in_usd'].median()}, Data Scientist - {ds['salary_in_usd'].median()}')"
   ]
  },
  {
   "cell_type": "markdown",
   "metadata": {},
   "source": [
    "Как видим, тест Манна-Уитни вывел значение p-value чуть больше установленного уровня значимости (alpha), следовательно, мы должны отвергнуть альтернативную гипотезу, что зарплата дата сайентиста больше зарплаты дата инженера. Но на самом деле, как видно из запроса сверху, ЗП Data Scientist на 10-20 тысяч больше, чем у Data Engineer, что можно считать существенным. В данном случае можем сказать, что мы принимаем aplha за 0,1 и поэтому выбираем альтернативную гипотезу."
   ]
  },
  {
   "cell_type": "markdown",
   "metadata": {},
   "source": [
    "---"
   ]
  },
  {
   "cell_type": "markdown",
   "metadata": {},
   "source": [
    "<span style=\"font-size:24px;\">**Вывод:**</span> $~$ <span style=\"font-size:20px;\">исходя из статистического теста Манна-Уитни, в 2022 году ЗП Data Scientist была больше, чем у Data Engineer.</span>"
   ]
  },
  {
   "cell_type": "markdown",
   "metadata": {},
   "source": [
    "# №3. Соотношение зарплат Data Scientist взависимости от размера компании"
   ]
  },
  {
   "cell_type": "code",
   "execution_count": 26,
   "metadata": {},
   "outputs": [
    {
     "data": {
      "text/plain": [
       "company_size\n",
       "M    326\n",
       "L    198\n",
       "S     83\n",
       "Name: count, dtype: int64"
      ]
     },
     "execution_count": 26,
     "metadata": {},
     "output_type": "execute_result"
    }
   ],
   "source": [
    "data['company_size'].value_counts()"
   ]
  },
  {
   "cell_type": "markdown",
   "metadata": {},
   "source": [
    "где S - маленькая компания, M - средняя, L - большая."
   ]
  },
  {
   "cell_type": "code",
   "execution_count": 27,
   "metadata": {},
   "outputs": [],
   "source": [
    "dm = data[data['company_size'] == 'M']\n",
    "ds = data[data['company_size'] == 'S']\n",
    "dl = data[data['company_size'] == 'L']"
   ]
  },
  {
   "cell_type": "markdown",
   "metadata": {},
   "source": [
    "Итак, имеем 3 независимых группы. Проверим распределение в каждой из них:"
   ]
  },
  {
   "cell_type": "code",
   "execution_count": 28,
   "metadata": {},
   "outputs": [
    {
     "name": "stdout",
     "output_type": "stream",
     "text": [
      "p-значение меньше, чем заданный уровень значимости 0.05. \n",
      "Значит, какой-то из признаков распределён ненормально. Используем непараметрический тест\n"
     ]
    }
   ],
   "source": [
    "# Используем метод shapiro() из библиотеки scipy для проверки данных на нормальность:\n",
    "_, p_1 = stats.shapiro(ds['salary_in_usd'])\n",
    "_, p_2 = stats.shapiro(dm['salary_in_usd'])\n",
    "_, p_3 = stats.shapiro(dl['salary_in_usd'])\n",
    "# Нулевая гипотеза: данные распределены нормально, альтернативная - нет\n",
    "if p_1 >= alpha and p_2 >= alpha and p_3 >= alpha:\n",
    "    print('p-значение обоих больше, чем заданный уровень значимости {:.2f}. \\nСледовательно, оба списка распределены нормально. Используем параметрический тест'.format(alpha))\n",
    "else:\n",
    "    print('p-значение меньше, чем заданный уровень значимости {:.2f}. \\nЗначит, какой-то из признаков распределён ненормально. Используем непараметрический тест'.format(alpha))"
   ]
  },
  {
   "cell_type": "markdown",
   "metadata": {},
   "source": [
    "*Нулевая гипотеза* ($H_0$): средняя зарплата Data Scientist не зависит от размера компании (т.е. медианная зарплаты дата сайентиста в маленькой ($μ_1$), средней ($μ_2$) и большой ($μ_3$) компании равны):\n",
    "\n",
    "$$ H_0 : μ_1 = μ_2 = μ_3$$\n",
    "\n",
    "*Альтернативная гипотеза* ($H_1$): средняя зарплата Data Scientist зависит от размера компании (т.е. медианная зарплаты дата сайентиста в маленькой ($μ_1$), средней ($μ_2$) и большой ($μ_3$) компании не равны):\n",
    "\n",
    "$$ H_1 : μ_1 ≠ μ_2 ≠ μ_3$$"
   ]
  },
  {
   "cell_type": "markdown",
   "metadata": {},
   "source": [
    "Таким образом, нам подходит тест Краскела-Уоллиса:"
   ]
  },
  {
   "cell_type": "code",
   "execution_count": 29,
   "metadata": {},
   "outputs": [
    {
     "name": "stdout",
     "output_type": "stream",
     "text": [
      "p-значение меньше, чем заданный уровень значимости 0.05. Отвергаем нулевую гипотезу.\n"
     ]
    }
   ],
   "source": [
    "# Используем функцию kruskal() библиотеки scipy\n",
    "_, p = stats.kruskal(ds['salary_in_usd'], dm['salary_in_usd'], dl['salary_in_usd'])\n",
    "# Выбираем гипотезу\n",
    "if p <= alpha:\n",
    "    print('p-значение меньше, чем заданный уровень значимости {:.2f}. Отвергаем нулевую гипотезу.'.format(alpha))\n",
    "else:\n",
    "    print('p-значение больше, чем заданный уровень значимости {:.2f}. У нас нет оснований отвергнуть нулевую гипотезу.'.format(alpha))"
   ]
  },
  {
   "cell_type": "markdown",
   "metadata": {},
   "source": [
    "Итак, как и ожидалось, размеры ЗП Data Scientist зависит от размера компании."
   ]
  },
  {
   "cell_type": "markdown",
   "metadata": {},
   "source": [
    "<span style=\"font-size:24px;\">**Вывод:**</span> $~$ <span style=\"font-size:20px;\">исходя из статистического теста Краскела-Уоллиса, ЗП Data Scientist зависит от размера компании.</span>"
   ]
  },
  {
   "cell_type": "markdown",
   "metadata": {},
   "source": [
    "# №4. Связь между размерами компаний и профессиями Data Scientist и Data Engineer"
   ]
  },
  {
   "cell_type": "markdown",
   "metadata": {},
   "source": [
    "В данном случае рассматриваем зависимость категориальных признаков: 'job_title' (в выборку берём только Data Scientist и Data Engineer) и 'company_size'."
   ]
  },
  {
   "cell_type": "code",
   "execution_count": 30,
   "metadata": {},
   "outputs": [
    {
     "data": {
      "text/html": [
       "<div>\n",
       "<style scoped>\n",
       "    .dataframe tbody tr th:only-of-type {\n",
       "        vertical-align: middle;\n",
       "    }\n",
       "\n",
       "    .dataframe tbody tr th {\n",
       "        vertical-align: top;\n",
       "    }\n",
       "\n",
       "    .dataframe thead th {\n",
       "        text-align: right;\n",
       "    }\n",
       "</style>\n",
       "<table border=\"1\" class=\"dataframe\">\n",
       "  <thead>\n",
       "    <tr style=\"text-align: right;\">\n",
       "      <th>company_size</th>\n",
       "      <th>L</th>\n",
       "      <th>M</th>\n",
       "      <th>S</th>\n",
       "    </tr>\n",
       "    <tr>\n",
       "      <th>job_title</th>\n",
       "      <th></th>\n",
       "      <th></th>\n",
       "      <th></th>\n",
       "    </tr>\n",
       "  </thead>\n",
       "  <tbody>\n",
       "    <tr>\n",
       "      <th>Data Engineer</th>\n",
       "      <td>37</td>\n",
       "      <td>89</td>\n",
       "      <td>6</td>\n",
       "    </tr>\n",
       "    <tr>\n",
       "      <th>Data Scientist</th>\n",
       "      <td>45</td>\n",
       "      <td>77</td>\n",
       "      <td>21</td>\n",
       "    </tr>\n",
       "  </tbody>\n",
       "</table>\n",
       "</div>"
      ],
      "text/plain": [
       "company_size     L   M   S\n",
       "job_title                 \n",
       "Data Engineer   37  89   6\n",
       "Data Scientist  45  77  21"
      ]
     },
     "execution_count": 30,
     "metadata": {},
     "output_type": "execute_result"
    }
   ],
   "source": [
    "# Фильтруем исходный датафрейм так, чтобы в нём упоминались только Data Scientist и Data Engineer\n",
    "df = data[(data['job_title'] == 'Data Scientist') | (data['job_title'] == 'Data Engineer')]\n",
    "# Строим таблицу сопряжённости\n",
    "table = pd.crosstab(df['job_title'], df['company_size'])\n",
    "table"
   ]
  },
  {
   "cell_type": "markdown",
   "metadata": {},
   "source": [
    "*Нулевая гипотеза* ($H_0$): не существует связи между размером компании и рабочим местом в ней (для Data Scientist и Data Engineer)\n",
    "\n",
    "*Альтернативная гипотеза* ($H_1$): существует связь между размером компании и рабочим местом в ней (для Data Scientist и Data Engineer)"
   ]
  },
  {
   "cell_type": "markdown",
   "metadata": {},
   "source": [
    "Т.к. исследуем категориальные признаки, воспользуемся Хи-квадрат тестом:"
   ]
  },
  {
   "cell_type": "code",
   "execution_count": 31,
   "metadata": {},
   "outputs": [
    {
     "name": "stdout",
     "output_type": "stream",
     "text": [
      "p-значение меньше, чем заданный уровень значимости 0.05. Отвергаем нулевую гипотезу.\n"
     ]
    }
   ],
   "source": [
    "# Используем функцию chi2_contigency() из библиотеки scipy\n",
    "result = stats.chi2_contingency(table)\n",
    "p = result.pvalue\n",
    "# Выбираем верную гипотезу\n",
    "if p <= alpha:\n",
    "    print('p-значение меньше, чем заданный уровень значимости {:.2f}. Отвергаем нулевую гипотезу.'.format(alpha))\n",
    "else:\n",
    "    print('p-значение больше, чем заданный уровень значимости {:.2f}. У нас нет оснований отвергнуть нулевую гипотезу.'.format(alpha))"
   ]
  },
  {
   "cell_type": "markdown",
   "metadata": {},
   "source": [
    "Таким образом, существует связь между размером компании и профессией, предлагаемой в них."
   ]
  },
  {
   "cell_type": "markdown",
   "metadata": {},
   "source": [
    "<span style=\"font-size:24px;\">**Вывод:**</span> $~$ <span style=\"font-size:20px;\">благодаря критерию Хи-квадрат удалось узнать, что есть связь между размером компании и предлагаемой в ней должности.</span>"
   ]
  },
  {
   "cell_type": "markdown",
   "metadata": {},
   "source": [
    "# Дополнительное исследование"
   ]
  },
  {
   "cell_type": "markdown",
   "metadata": {},
   "source": [
    "Рассмотрим зависимость зарплаты Data Scientist от объёма работы ('remote_ratio') "
   ]
  },
  {
   "cell_type": "code",
   "execution_count": 32,
   "metadata": {},
   "outputs": [
    {
     "data": {
      "text/plain": [
       "remote_ratio\n",
       "100    381\n",
       "0      127\n",
       "50      99\n",
       "Name: count, dtype: int64"
      ]
     },
     "execution_count": 32,
     "metadata": {},
     "output_type": "execute_result"
    }
   ],
   "source": [
    "data['remote_ratio'].value_counts()"
   ]
  },
  {
   "cell_type": "code",
   "execution_count": 33,
   "metadata": {},
   "outputs": [],
   "source": [
    "# Фильтруем датафрейм по наличию должности Data Scientist\n",
    "df = data[data['job_title'] == 'Data Scientist']\n",
    "# Для каждого типа работы создадим отдельный датафрейм\n",
    "df_full_remote = df[df['remote_ratio'] == 100]\n",
    "df_partly_remote = df[df['remote_ratio'] == 50]\n",
    "df_no_remote = df[df['remote_ratio'] == 0]"
   ]
  },
  {
   "cell_type": "code",
   "execution_count": 34,
   "metadata": {},
   "outputs": [
    {
     "data": {
      "text/plain": [
       "Text(0.5, 1.0, 'Распределение зарплаты у работающих удалённо')"
      ]
     },
     "execution_count": 34,
     "metadata": {},
     "output_type": "execute_result"
    },
    {
     "data": {
      "image/png": "[encoded data removed]",
      "text/plain": [
       "<Figure size 640x480 with 1 Axes>"
      ]
     },
     "metadata": {},
     "output_type": "display_data"
    }
   ],
   "source": [
    "# Строим диаграмму распределения признака 'salary_in_usd' для датафрейма df_full_remote \n",
    "ax = sns.histplot(df_full_remote['salary_in_usd'], bins=30)\n",
    "# Добавляем заголовок\n",
    "ax.set_title('Распределение зарплаты у работающих удалённо')"
   ]
  },
  {
   "cell_type": "code",
   "execution_count": 35,
   "metadata": {},
   "outputs": [
    {
     "data": {
      "text/plain": [
       "Text(0.5, 1.0, 'Распределение зарплаты у работающих очно')"
      ]
     },
     "execution_count": 35,
     "metadata": {},
     "output_type": "execute_result"
    },
    {
     "data": {
      "image/png": "[encoded data removed]",
      "text/plain": [
       "<Figure size 640x480 with 1 Axes>"
      ]
     },
     "metadata": {},
     "output_type": "display_data"
    }
   ],
   "source": [
    "# Строим диаграмму распределения признака 'salary_in_usd' для датафрейма df_full_remote \n",
    "ax = sns.histplot(df_no_remote['salary_in_usd'], bins=30)\n",
    "# Добавляем заголовок\n",
    "ax.set_title('Распределение зарплаты у работающих очно')"
   ]
  },
  {
   "cell_type": "markdown",
   "metadata": {},
   "source": [
    "Из графиков выше следует, что исследуемый признак распределён ненормально, а значит используем непараметрический тест."
   ]
  },
  {
   "cell_type": "markdown",
   "metadata": {},
   "source": [
    "Будем сравнивать группы попарно. Все признаки - независимые и количественные. Используем U-критерий Манна-Уитни."
   ]
  },
  {
   "cell_type": "markdown",
   "metadata": {},
   "source": [
    "---"
   ]
  },
  {
   "cell_type": "markdown",
   "metadata": {},
   "source": [
    "*Нулевая гипотеза* ($H_0$): средняя зарплата Data Scientist, работающего удалённо, ($μ_1$) статистически меньше либо равна размеру заработной платы Data Scientist, работающего очно ($μ_2$).\n",
    "\n",
    "$$ H_0 : μ_1 <= μ_2$$\n",
    "\n",
    "*Альтернативная гипотеза* ($H_1$): средняя зарплата Data Scientist, работающего удалённо, ($μ_1$) статистически больше размера заработной платы Data Scientist, работающего очно ($μ_2$).\n",
    "\n",
    "$$ H_1 : μ_1 > μ_2$$"
   ]
  },
  {
   "cell_type": "code",
   "execution_count": 36,
   "metadata": {},
   "outputs": [
    {
     "name": "stdout",
     "output_type": "stream",
     "text": [
      "p-значение меньше, чем заданный уровень значимости 0.05. Отвергаем нулевую гипотезу.\n"
     ]
    }
   ],
   "source": [
    "# Используем функцию mannwhitneyu библиотеки scipy\n",
    "_, p = stats.mannwhitneyu(df_full_remote['salary_in_usd'], df_no_remote['salary_in_usd'], alternative='greater')\n",
    "# Подбираем верную гипотезу\n",
    "if p <= alpha:\n",
    "    print('p-значение меньше, чем заданный уровень значимости {:.2f}. Отвергаем нулевую гипотезу.'.format(alpha))\n",
    "else:\n",
    "    print('p-значение больше, чем заданный уровень значимости {:.2f}. У нас нет оснований отвергнуть нулевую гипотезу.'.format(alpha))"
   ]
  },
  {
   "cell_type": "markdown",
   "metadata": {},
   "source": [
    "Таким образом, Data Scientist, работающий удалённо, получает больше, чем тот, кто работает очно."
   ]
  },
  {
   "cell_type": "markdown",
   "metadata": {},
   "source": [
    "---"
   ]
  },
  {
   "cell_type": "markdown",
   "metadata": {},
   "source": [
    "*Нулевая гипотеза* ($H_0$): средняя зарплата Data Scientist, работающего только удалённо, ($μ_1$) статистически меньше либо равна размеру заработной платы Data Scientist, работающего частично очно, частично удалённо ($μ_2$).\n",
    "\n",
    "$$ H_0 : μ_1 <= μ_2$$\n",
    "\n",
    "*Альтернативная гипотеза* ($H_1$): средняя зарплата Data Scientist, работающего только удалённо, ($μ_1$) статистически больше размера заработной платы Data Scientist, работающего частично очно, частично удалённо ($μ_2$).\n",
    "\n",
    "$$ H_1 : μ_1 > μ_2$$"
   ]
  },
  {
   "cell_type": "code",
   "execution_count": 37,
   "metadata": {},
   "outputs": [
    {
     "name": "stdout",
     "output_type": "stream",
     "text": [
      "p-значение меньше, чем заданный уровень значимости 0.05. Отвергаем нулевую гипотезу.\n"
     ]
    }
   ],
   "source": [
    "# Используем функцию mannwhitneyu библиотеки scipy\n",
    "_, p = stats.mannwhitneyu(df_full_remote['salary_in_usd'], df_partly_remote['salary_in_usd'], alternative='greater')\n",
    "# Подбираем верную гипотезу\n",
    "if p <= alpha:\n",
    "    print('p-значение меньше, чем заданный уровень значимости {:.2f}. Отвергаем нулевую гипотезу.'.format(alpha))\n",
    "else:\n",
    "    print('p-значение больше, чем заданный уровень значимости {:.2f}. У нас нет оснований отвергнуть нулевую гипотезу.'.format(alpha))"
   ]
  },
  {
   "cell_type": "markdown",
   "metadata": {},
   "source": [
    "Таким образом, Data Scientist, работающий удалённо, получает больше, чем тот, кто работает и очно, и удалённо."
   ]
  },
  {
   "cell_type": "markdown",
   "metadata": {},
   "source": [
    "---"
   ]
  },
  {
   "cell_type": "markdown",
   "metadata": {},
   "source": [
    "*Нулевая гипотеза* ($H_0$): средняя зарплата Data Scientist, работающего очно, ($μ_1$) статистически меньше либо равна размеру заработной платы Data Scientist, работающего частично очно, частично удалённо ($μ_2$).\n",
    "\n",
    "$$ H_0 : μ_1 <= μ_2$$\n",
    "\n",
    "*Альтернативная гипотеза* ($H_1$): средняя зарплата Data Scientist, работающего очно, ($μ_1$) статистически больше размера заработной платы Data Scientist, работающего частично очно, частично удалённо ($μ_2$).\n",
    "\n",
    "$$ H_1 : μ_1 > μ_2$$"
   ]
  },
  {
   "cell_type": "code",
   "execution_count": 38,
   "metadata": {},
   "outputs": [
    {
     "name": "stdout",
     "output_type": "stream",
     "text": [
      "p-значение меньше, чем заданный уровень значимости 0.05. Отвергаем нулевую гипотезу.\n"
     ]
    }
   ],
   "source": [
    "# Используем функцию mannwhitneyu библиотеки scipy\n",
    "_, p = stats.mannwhitneyu(df_no_remote['salary_in_usd'], df_partly_remote['salary_in_usd'], alternative='greater')\n",
    "# Подбираем верную гипотезу\n",
    "if p <= alpha:\n",
    "    print('p-значение меньше, чем заданный уровень значимости {:.2f}. Отвергаем нулевую гипотезу.'.format(alpha))\n",
    "else:\n",
    "    print('p-значение больше, чем заданный уровень значимости {:.2f}. У нас нет оснований отвергнуть нулевую гипотезу.'.format(alpha))"
   ]
  },
  {
   "cell_type": "markdown",
   "metadata": {},
   "source": [
    "Таким образом, Data Scientist, работающий очно, получает больше, чем тот, кто работает по смешанному графику."
   ]
  },
  {
   "cell_type": "markdown",
   "metadata": {},
   "source": [
    "---"
   ]
  },
  {
   "cell_type": "markdown",
   "metadata": {},
   "source": [
    "<span style=\"font-size:24px;\">**Вывод:**</span> $~$ <span style=\"font-size:20px;\">исходя из статистического теста Манна-Уитни, ЗП Data Scientist зависит от типа работы: удалённая работа > смешанная работа > очная работа.</span>"
   ]
  },
  {
   "cell_type": "markdown",
   "metadata": {},
   "source": [
    "---"
   ]
  },
  {
   "cell_type": "markdown",
   "metadata": {},
   "source": [
    "<i>"
   ]
  },
  {
   "cell_type": "markdown",
   "metadata": {},
   "source": [
    "---"
   ]
  },
  {
   "cell_type": "markdown",
   "metadata": {},
   "source": [
    "По данным Ai-jobs.net в 2022 году медианная зарплата для full-time Data Scientist составляет 150 тыс $. Проверим это суждение на основе наших данных.\n",
    "\n",
    "Источник: https://ai-jobs.net/salaries/data-scientist-salary-in-united-states-during-2022/"
   ]
  },
  {
   "cell_type": "code",
   "execution_count": 39,
   "metadata": {},
   "outputs": [
    {
     "data": {
      "text/html": [
       "<div>\n",
       "<style scoped>\n",
       "    .dataframe tbody tr th:only-of-type {\n",
       "        vertical-align: middle;\n",
       "    }\n",
       "\n",
       "    .dataframe tbody tr th {\n",
       "        vertical-align: top;\n",
       "    }\n",
       "\n",
       "    .dataframe thead th {\n",
       "        text-align: right;\n",
       "    }\n",
       "</style>\n",
       "<table border=\"1\" class=\"dataframe\">\n",
       "  <thead>\n",
       "    <tr style=\"text-align: right;\">\n",
       "      <th></th>\n",
       "      <th>work_year</th>\n",
       "      <th>experience_level</th>\n",
       "      <th>employment_type</th>\n",
       "      <th>job_title</th>\n",
       "      <th>salary_in_usd</th>\n",
       "      <th>remote_ratio</th>\n",
       "      <th>company_location</th>\n",
       "      <th>company_size</th>\n",
       "    </tr>\n",
       "  </thead>\n",
       "  <tbody>\n",
       "    <tr>\n",
       "      <th>292</th>\n",
       "      <td>2022</td>\n",
       "      <td>MI</td>\n",
       "      <td>FT</td>\n",
       "      <td>Data Scientist</td>\n",
       "      <td>130000</td>\n",
       "      <td>0</td>\n",
       "      <td>US</td>\n",
       "      <td>M</td>\n",
       "    </tr>\n",
       "    <tr>\n",
       "      <th>293</th>\n",
       "      <td>2022</td>\n",
       "      <td>MI</td>\n",
       "      <td>FT</td>\n",
       "      <td>Data Scientist</td>\n",
       "      <td>90000</td>\n",
       "      <td>0</td>\n",
       "      <td>US</td>\n",
       "      <td>M</td>\n",
       "    </tr>\n",
       "    <tr>\n",
       "      <th>298</th>\n",
       "      <td>2022</td>\n",
       "      <td>SE</td>\n",
       "      <td>FT</td>\n",
       "      <td>Data Scientist</td>\n",
       "      <td>136620</td>\n",
       "      <td>100</td>\n",
       "      <td>US</td>\n",
       "      <td>M</td>\n",
       "    </tr>\n",
       "    <tr>\n",
       "      <th>299</th>\n",
       "      <td>2022</td>\n",
       "      <td>SE</td>\n",
       "      <td>FT</td>\n",
       "      <td>Data Scientist</td>\n",
       "      <td>99360</td>\n",
       "      <td>100</td>\n",
       "      <td>US</td>\n",
       "      <td>M</td>\n",
       "    </tr>\n",
       "    <tr>\n",
       "      <th>302</th>\n",
       "      <td>2022</td>\n",
       "      <td>SE</td>\n",
       "      <td>FT</td>\n",
       "      <td>Data Scientist</td>\n",
       "      <td>146000</td>\n",
       "      <td>100</td>\n",
       "      <td>US</td>\n",
       "      <td>M</td>\n",
       "    </tr>\n",
       "  </tbody>\n",
       "</table>\n",
       "</div>"
      ],
      "text/plain": [
       "     work_year experience_level employment_type       job_title  \\\n",
       "292       2022               MI              FT  Data Scientist   \n",
       "293       2022               MI              FT  Data Scientist   \n",
       "298       2022               SE              FT  Data Scientist   \n",
       "299       2022               SE              FT  Data Scientist   \n",
       "302       2022               SE              FT  Data Scientist   \n",
       "\n",
       "     salary_in_usd  remote_ratio company_location company_size  \n",
       "292         130000             0               US            M  \n",
       "293          90000             0               US            M  \n",
       "298         136620           100               US            M  \n",
       "299          99360           100               US            M  \n",
       "302         146000           100               US            M  "
      ]
     },
     "execution_count": 39,
     "metadata": {},
     "output_type": "execute_result"
    }
   ],
   "source": [
    "# Фильтруем признак в соответствии с заданными условиями\n",
    "mask = (data['job_title'] == 'Data Scientist') & (data['work_year'] == 2022) \\\n",
    "    & (data['employment_type'] == 'FT') & (data['company_location'] == 'US')\n",
    "df = data[mask]\n",
    "df.head()"
   ]
  },
  {
   "cell_type": "code",
   "execution_count": 40,
   "metadata": {},
   "outputs": [
    {
     "name": "stdout",
     "output_type": "stream",
     "text": [
      "Нулевая гипотеза верна - данные распределены нормально\n"
     ]
    }
   ],
   "source": [
    "# Используем тест Шапиро-Уилка для определения нормальности распределения признака salary_in_usd\n",
    "_, p = stats.shapiro(df['salary_in_usd'])\n",
    "if p >= alpha:\n",
    "    print('Нулевая гипотеза верна - данные распределены нормально')\n",
    "else:\n",
    "    print('Альтернативная гипотеза верна - данные не распределены нормально')"
   ]
  },
  {
   "cell_type": "code",
   "execution_count": 41,
   "metadata": {},
   "outputs": [
    {
     "data": {
      "text/plain": [
       "Text(0.5, 1.0, 'Распределение зарплаты у работающих удалённо')"
      ]
     },
     "execution_count": 41,
     "metadata": {},
     "output_type": "execute_result"
    },
    {
     "data": {
      "image/png": "[encoded data removed]",
      "text/plain": [
       "<Figure size 640x480 with 1 Axes>"
      ]
     },
     "metadata": {},
     "output_type": "display_data"
    }
   ],
   "source": [
    "# Строим диаграмму распределения признака 'salary_in_usd' для датафрейма df_full_remote \n",
    "ax = sns.histplot(df['salary_in_usd'], bins=40)\n",
    "# Добавляем заголовок\n",
    "ax.set_title('Распределение зарплаты у работающих удалённо')"
   ]
  },
  {
   "cell_type": "markdown",
   "metadata": {},
   "source": [
    "Итак, мы рассматриваем одну группу, данные распределены нормально и сам признак - количественный. Следовательно, нужно использовать одновыборочный t-критерий."
   ]
  },
  {
   "cell_type": "markdown",
   "metadata": {},
   "source": [
    "*Нулевая гипотеза* ($H_0$): средняя зарплата ($μ_1$) Data Scientist в 2022 году, работающего full-time на американскую компанию, равна 150,000 $.\n",
    "\n",
    "$$ H_0 : μ_1 = 150,000 $$\n",
    "\n",
    "*Альтернативная гипотеза* ($H_1$): средняя зарплата ($μ_1$) Data Scientist в 2022 году, работающего full-time на американскую компанию, не равна 150,000 $.\n",
    "\n",
    "$$ H_1 : μ_1 ≠ 150,000 $$"
   ]
  },
  {
   "cell_type": "code",
   "execution_count": 42,
   "metadata": {},
   "outputs": [
    {
     "name": "stdout",
     "output_type": "stream",
     "text": [
      "p-значение больше, чем заданный уровень значимости 0.05. У нас нет оснований отвергнуть нулевую гипотезу.\n"
     ]
    }
   ],
   "source": [
    "# Используем функцию ttest_1samp() из библиотеки scipy\n",
    "_, p = stats.ttest_1samp(df['salary_in_usd'], 150000, alternative='two-sided')\n",
    "# Подбираем верную гипотезу\n",
    "if p <= alpha:\n",
    "    print('p-значение меньше, чем заданный уровень значимости {:.2f}. Отвергаем нулевую гипотезу.'.format(alpha))\n",
    "else:\n",
    "    print('p-значение больше, чем заданный уровень значимости {:.2f}. У нас нет оснований отвергнуть нулевую гипотезу.'.format(alpha))"
   ]
  },
  {
   "cell_type": "markdown",
   "metadata": {},
   "source": [
    "Таким образом, у нас нет оснований полагать, что средняя ЗП Data Scientist, работающего full-time в США в 2022 году, не равна 150 тысячам, как указано в источнике. "
   ]
  },
  {
   "cell_type": "markdown",
   "metadata": {},
   "source": [
    "<span style=\"font-size:24px;\">**Вывод:**</span> $~$ <span style=\"font-size:20px;\">благодаря одновыборочному t-критерию удалось подтвердить среднюю зарплату Data Scientist в США за 2022 год - 150,000 $.</span>"
   ]
  },
  {
   "cell_type": "markdown",
   "metadata": {},
   "source": [
    "---"
   ]
  },
  {
   "cell_type": "markdown",
   "metadata": {},
   "source": [
    "<i>"
   ]
  },
  {
   "cell_type": "markdown",
   "metadata": {},
   "source": [
    "---"
   ]
  },
  {
   "cell_type": "markdown",
   "metadata": {},
   "source": [
    "Незамеченным остался последний признак - опыт работы ('experience_level'). Проверим, зависит ли зарплата Data Scientist от опыта работы специалиста."
   ]
  },
  {
   "cell_type": "code",
   "execution_count": 43,
   "metadata": {},
   "outputs": [
    {
     "data": {
      "text/plain": [
       "experience_level\n",
       "SE    280\n",
       "MI    213\n",
       "EN     88\n",
       "EX     26\n",
       "Name: count, dtype: int64"
      ]
     },
     "execution_count": 43,
     "metadata": {},
     "output_type": "execute_result"
    }
   ],
   "source": [
    "data['experience_level'].value_counts()"
   ]
  },
  {
   "cell_type": "code",
   "execution_count": 44,
   "metadata": {},
   "outputs": [],
   "source": [
    "# Фильтруем признак так, чтобы в датафрейме осталась информация только о Data Scientist\n",
    "df = data[data['job_title'] == 'Data Scientist']\n",
    "# Для каждого уровня специалиста сохраним датафрейм в отедльную переменную\n",
    "df_se = df[df['experience_level'] == 'SE']\n",
    "df_mi = df[df['experience_level'] == 'MI']\n",
    "df_en = df[df['experience_level'] == 'EN']\n",
    "df_ex = df[df['experience_level'] == 'EX']"
   ]
  },
  {
   "cell_type": "code",
   "execution_count": 45,
   "metadata": {},
   "outputs": [
    {
     "data": {
      "text/html": [
       "<div>\n",
       "<style scoped>\n",
       "    .dataframe tbody tr th:only-of-type {\n",
       "        vertical-align: middle;\n",
       "    }\n",
       "\n",
       "    .dataframe tbody tr th {\n",
       "        vertical-align: top;\n",
       "    }\n",
       "\n",
       "    .dataframe thead th {\n",
       "        text-align: right;\n",
       "    }\n",
       "</style>\n",
       "<table border=\"1\" class=\"dataframe\">\n",
       "  <thead>\n",
       "    <tr style=\"text-align: right;\">\n",
       "      <th></th>\n",
       "      <th>work_year</th>\n",
       "      <th>experience_level</th>\n",
       "      <th>employment_type</th>\n",
       "      <th>job_title</th>\n",
       "      <th>salary_in_usd</th>\n",
       "      <th>remote_ratio</th>\n",
       "      <th>company_location</th>\n",
       "      <th>company_size</th>\n",
       "    </tr>\n",
       "  </thead>\n",
       "  <tbody>\n",
       "  </tbody>\n",
       "</table>\n",
       "</div>"
      ],
      "text/plain": [
       "Empty DataFrame\n",
       "Columns: [work_year, experience_level, employment_type, job_title, salary_in_usd, remote_ratio, company_location, company_size]\n",
       "Index: []"
      ]
     },
     "execution_count": 45,
     "metadata": {},
     "output_type": "execute_result"
    }
   ],
   "source": [
    "df_ex"
   ]
  },
  {
   "cell_type": "markdown",
   "metadata": {},
   "source": [
    "Как видим, в нашим данных нет специалиста по Data Science в должности Director."
   ]
  },
  {
   "cell_type": "markdown",
   "metadata": {},
   "source": [
    "*Нулевая гипотеза* ($H_0$): зарплата Data Scientist не зависит опыта работы.\n",
    "\n",
    "*Альтернативная гипотеза* ($H_1$): зарплата Data Scientist зависит опыта работы."
   ]
  },
  {
   "cell_type": "markdown",
   "metadata": {},
   "source": [
    "Т.к. в данных упоминается 3 разных уровня специалиста, группы независимы и распределение зарплат - ненормальное, используем критерий Краскела-Уоллиса."
   ]
  },
  {
   "cell_type": "code",
   "execution_count": 46,
   "metadata": {},
   "outputs": [
    {
     "name": "stdout",
     "output_type": "stream",
     "text": [
      "p-значение меньше, чем заданный уровень значимости 0.05. Отвергаем нулевую гипотезу.\n"
     ]
    }
   ],
   "source": [
    "# Воспользуемся функцией kruskal() из библиотеки scipy\n",
    "_, p = stats.kruskal(df_se['salary_in_usd'], df_mi['salary_in_usd'], df_en['salary_in_usd'])\n",
    "# Подбираем верную гипотезу\n",
    "if p <= alpha:\n",
    "    print('p-значение меньше, чем заданный уровень значимости {:.2f}. Отвергаем нулевую гипотезу.'.format(alpha))\n",
    "else:\n",
    "    print('p-значение больше, чем заданный уровень значимости {:.2f}. У нас нет оснований отвергнуть нулевую гипотезу.'.format(alpha))"
   ]
  },
  {
   "cell_type": "markdown",
   "metadata": {},
   "source": [
    "Как и ожидалось, ЗП Data Scientist зависит от опыта работы.<span style=\"font-size:24px;\">**Вывод:**</span> $~$ <span style=\"font-size:20px;\">с помощью критерия Краскела-Уоллиса выяснили, что опыт работы влияет на заработок Data Scientist.</span>"
   ]
  },
  {
   "cell_type": "markdown",
   "metadata": {},
   "source": [
    "# Общий вывод"
   ]
  },
  {
   "cell_type": "markdown",
   "metadata": {},
   "source": [
    "Был проведён тщательный анализ данных, в ходе которых благодаря статистическим тестам и графикам были получены следующие результаты:\n",
    "* ЗП Data Scientist зависит от: размера компании, типа работы (удалённо/очно) и опыта работы специалиста.\n",
    "* Средний размер ЗП Data Scientist в 2022 в США - 150,000 $.\n",
    "* Рост зарплат Data Scientist был только в 2022 году, по нашим данным нельзя утверждать, что есть тренд постоянно роста зарплаты.\n",
    "* Data Scientist получает больше, чем Data Engineer (по данным 2022 года).\n",
    "* Существует связь между размером компании и предлагаемой в ней должностью (в крупных и маленьких компаниях чаще предлагают должность Data Scientist, в то время как в средних - Data Engineer)."
   ]
  }
 ],
 "metadata": {
  "kernelspec": {
   "display_name": "Python 3",
   "language": "python",
   "name": "python3"
  },
  "language_info": {
   "codemirror_mode": {
    "name": "ipython",
    "version": 3
   },
   "file_extension": ".py",
   "mimetype": "text/x-python",
   "name": "python",
   "nbconvert_exporter": "python",
   "pygments_lexer": "ipython3",
   "version": "3.12.2"
  }
 },
 "nbformat": 4,
 "nbformat_minor": 2
}
